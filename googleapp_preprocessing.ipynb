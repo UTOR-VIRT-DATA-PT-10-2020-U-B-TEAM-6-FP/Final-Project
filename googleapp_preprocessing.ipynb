{
 "cells": [
  {
   "cell_type": "code",
   "execution_count": 1,
   "metadata": {},
   "outputs": [],
   "source": [
    "import pandas as pd"
   ]
  },
  {
   "cell_type": "code",
   "execution_count": 2,
   "metadata": {},
   "outputs": [],
   "source": [
    "df_new = pd.read_csv(\"Google-Playstore.csv\", low_memory=False)"
   ]
  },
  {
   "cell_type": "code",
   "execution_count": 3,
   "metadata": {},
   "outputs": [
    {
     "data": {
      "text/plain": [
       "Index(['App Name', 'App Id', 'Category', 'Rating', 'Rating Count', 'Installs',\n",
       "       'Minimum Installs', 'Maximum Installs', 'Free', 'Price', 'Currency',\n",
       "       'Size', 'Minimum Android', 'Developer Id', 'Developer Website',\n",
       "       'Developer Email', 'Released', 'Last Updated', 'Content Rating',\n",
       "       'Privacy Policy', 'Ad Supported', 'In App Purchases', 'Editors Choice'],\n",
       "      dtype='object')"
      ]
     },
     "execution_count": 3,
     "metadata": {},
     "output_type": "execute_result"
    }
   ],
   "source": [
    "df_new.columns"
   ]
  },
  {
   "cell_type": "code",
   "execution_count": 4,
   "metadata": {},
   "outputs": [
    {
     "data": {
      "text/html": [
       "<div>\n",
       "<style scoped>\n",
       "    .dataframe tbody tr th:only-of-type {\n",
       "        vertical-align: middle;\n",
       "    }\n",
       "\n",
       "    .dataframe tbody tr th {\n",
       "        vertical-align: top;\n",
       "    }\n",
       "\n",
       "    .dataframe thead th {\n",
       "        text-align: right;\n",
       "    }\n",
       "</style>\n",
       "<table border=\"1\" class=\"dataframe\">\n",
       "  <thead>\n",
       "    <tr style=\"text-align: right;\">\n",
       "      <th></th>\n",
       "      <th>App Name</th>\n",
       "      <th>App Id</th>\n",
       "      <th>Maximum Installs</th>\n",
       "      <th>Size</th>\n",
       "      <th>Released</th>\n",
       "      <th>Last Updated</th>\n",
       "      <th>Editors Choice</th>\n",
       "    </tr>\n",
       "  </thead>\n",
       "  <tbody>\n",
       "    <tr>\n",
       "      <th>0</th>\n",
       "      <td>HTTrack Website Copier</td>\n",
       "      <td>com.httrack.android</td>\n",
       "      <td>351560</td>\n",
       "      <td>2.7M</td>\n",
       "      <td>Aug 12, 2013</td>\n",
       "      <td>May 20, 2017</td>\n",
       "      <td>False</td>\n",
       "    </tr>\n",
       "    <tr>\n",
       "      <th>1</th>\n",
       "      <td>World War 2: Offline Strategy</td>\n",
       "      <td>com.skizze.wwii</td>\n",
       "      <td>2161778</td>\n",
       "      <td>86M</td>\n",
       "      <td>Jul 19, 2018</td>\n",
       "      <td>Nov 26, 2020</td>\n",
       "      <td>False</td>\n",
       "    </tr>\n",
       "    <tr>\n",
       "      <th>2</th>\n",
       "      <td>WPSApp</td>\n",
       "      <td>com.themausoft.wpsapp</td>\n",
       "      <td>79304739</td>\n",
       "      <td>5.8M</td>\n",
       "      <td>Mar 7, 2016</td>\n",
       "      <td>Oct 21, 2020</td>\n",
       "      <td>False</td>\n",
       "    </tr>\n",
       "    <tr>\n",
       "      <th>3</th>\n",
       "      <td>OfficeSuite - Office, PDF, Word, Excel, PowerP...</td>\n",
       "      <td>com.mobisystems.office</td>\n",
       "      <td>163660067</td>\n",
       "      <td>59M</td>\n",
       "      <td>Dec 22, 2011</td>\n",
       "      <td>Nov 23, 2020</td>\n",
       "      <td>False</td>\n",
       "    </tr>\n",
       "    <tr>\n",
       "      <th>4</th>\n",
       "      <td>Loud Player Free</td>\n",
       "      <td>com.arthelion.loudplayer</td>\n",
       "      <td>73463</td>\n",
       "      <td>29M</td>\n",
       "      <td>Sep 24, 2016</td>\n",
       "      <td>Nov 22, 2020</td>\n",
       "      <td>False</td>\n",
       "    </tr>\n",
       "    <tr>\n",
       "      <th>...</th>\n",
       "      <td>...</td>\n",
       "      <td>...</td>\n",
       "      <td>...</td>\n",
       "      <td>...</td>\n",
       "      <td>...</td>\n",
       "      <td>...</td>\n",
       "      <td>...</td>\n",
       "    </tr>\n",
       "    <tr>\n",
       "      <th>1118131</th>\n",
       "      <td>FleetEnable</td>\n",
       "      <td>com.fleetenable.app</td>\n",
       "      <td>10</td>\n",
       "      <td>Varies with device</td>\n",
       "      <td>NaN</td>\n",
       "      <td>Jun 30, 2020</td>\n",
       "      <td>False</td>\n",
       "    </tr>\n",
       "    <tr>\n",
       "      <th>1118132</th>\n",
       "      <td>AutoThink</td>\n",
       "      <td>com.fleetenable.autothink</td>\n",
       "      <td>127</td>\n",
       "      <td>4.7M</td>\n",
       "      <td>Nov 26, 2019</td>\n",
       "      <td>Nov 13, 2020</td>\n",
       "      <td>False</td>\n",
       "    </tr>\n",
       "    <tr>\n",
       "      <th>1118133</th>\n",
       "      <td>FieldEnable</td>\n",
       "      <td>com.fieldenable.app.fieldenable</td>\n",
       "      <td>282</td>\n",
       "      <td>28M</td>\n",
       "      <td>Apr 30, 2018</td>\n",
       "      <td>Nov 30, 2020</td>\n",
       "      <td>False</td>\n",
       "    </tr>\n",
       "    <tr>\n",
       "      <th>1118134</th>\n",
       "      <td>Live Concert</td>\n",
       "      <td>com.varbin.liveconcert</td>\n",
       "      <td>986</td>\n",
       "      <td>8.1M</td>\n",
       "      <td>Dec 20, 2017</td>\n",
       "      <td>Dec 20, 2017</td>\n",
       "      <td>False</td>\n",
       "    </tr>\n",
       "    <tr>\n",
       "      <th>1118135</th>\n",
       "      <td>Rajput India</td>\n",
       "      <td>com.varbin.rajputindia</td>\n",
       "      <td>18892</td>\n",
       "      <td>8.8M</td>\n",
       "      <td>Jun 15, 2017</td>\n",
       "      <td>Sep 27, 2018</td>\n",
       "      <td>False</td>\n",
       "    </tr>\n",
       "  </tbody>\n",
       "</table>\n",
       "<p>1118136 rows × 7 columns</p>\n",
       "</div>"
      ],
      "text/plain": [
       "                                                  App Name  \\\n",
       "0                                   HTTrack Website Copier   \n",
       "1                            World War 2: Offline Strategy   \n",
       "2                                                   WPSApp   \n",
       "3        OfficeSuite - Office, PDF, Word, Excel, PowerP...   \n",
       "4                                         Loud Player Free   \n",
       "...                                                    ...   \n",
       "1118131                                        FleetEnable   \n",
       "1118132                                          AutoThink   \n",
       "1118133                                        FieldEnable   \n",
       "1118134                                       Live Concert   \n",
       "1118135                                       Rajput India   \n",
       "\n",
       "                                  App Id  Maximum Installs  \\\n",
       "0                    com.httrack.android            351560   \n",
       "1                        com.skizze.wwii           2161778   \n",
       "2                  com.themausoft.wpsapp          79304739   \n",
       "3                 com.mobisystems.office         163660067   \n",
       "4               com.arthelion.loudplayer             73463   \n",
       "...                                  ...               ...   \n",
       "1118131              com.fleetenable.app                10   \n",
       "1118132        com.fleetenable.autothink               127   \n",
       "1118133  com.fieldenable.app.fieldenable               282   \n",
       "1118134           com.varbin.liveconcert               986   \n",
       "1118135           com.varbin.rajputindia             18892   \n",
       "\n",
       "                       Size      Released  Last Updated  Editors Choice  \n",
       "0                      2.7M  Aug 12, 2013  May 20, 2017           False  \n",
       "1                       86M  Jul 19, 2018  Nov 26, 2020           False  \n",
       "2                      5.8M   Mar 7, 2016  Oct 21, 2020           False  \n",
       "3                       59M  Dec 22, 2011  Nov 23, 2020           False  \n",
       "4                       29M  Sep 24, 2016  Nov 22, 2020           False  \n",
       "...                     ...           ...           ...             ...  \n",
       "1118131  Varies with device           NaN  Jun 30, 2020           False  \n",
       "1118132                4.7M  Nov 26, 2019  Nov 13, 2020           False  \n",
       "1118133                 28M  Apr 30, 2018  Nov 30, 2020           False  \n",
       "1118134                8.1M  Dec 20, 2017  Dec 20, 2017           False  \n",
       "1118135                8.8M  Jun 15, 2017  Sep 27, 2018           False  \n",
       "\n",
       "[1118136 rows x 7 columns]"
      ]
     },
     "execution_count": 4,
     "metadata": {},
     "output_type": "execute_result"
    }
   ],
   "source": [
    "df_new = df_new[['App Name', 'App Id', 'Maximum Installs','Size','Released','Last Updated','Editors Choice']]\n",
    "df_new"
   ]
  },
  {
   "cell_type": "code",
   "execution_count": 5,
   "metadata": {},
   "outputs": [],
   "source": [
    "df_new['Last Updated'] = pd.to_datetime(df_new['Last Updated'])\n",
    "df_new['Released'] = pd.to_datetime(df_new['Released'])\n"
   ]
  },
  {
   "cell_type": "code",
   "execution_count": 6,
   "metadata": {},
   "outputs": [
    {
     "data": {
      "text/plain": [
       "App Name                    object\n",
       "App Id                      object\n",
       "Maximum Installs             int64\n",
       "Size                        object\n",
       "Released            datetime64[ns]\n",
       "Last Updated        datetime64[ns]\n",
       "Editors Choice                bool\n",
       "dtype: object"
      ]
     },
     "execution_count": 6,
     "metadata": {},
     "output_type": "execute_result"
    }
   ],
   "source": [
    "df_new.dtypes"
   ]
  }
 ],
 "metadata": {
  "kernelspec": {
   "display_name": "PythonData",
   "language": "python",
   "name": "pythondata"
  },
  "language_info": {
   "codemirror_mode": {
    "name": "ipython",
    "version": 3
   },
   "file_extension": ".py",
   "mimetype": "text/x-python",
   "name": "python",
   "nbconvert_exporter": "python",
   "pygments_lexer": "ipython3",
   "version": "3.8.5"
  }
 },
 "nbformat": 4,
 "nbformat_minor": 4
}
